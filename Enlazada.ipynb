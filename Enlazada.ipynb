{
  "nbformat": 4,
  "nbformat_minor": 0,
  "metadata": {
    "colab": {
      "name": "Enlazada.ipynb",
      "provenance": [],
      "collapsed_sections": [],
      "toc_visible": true,
      "mount_file_id": "1LH5NRbBkV2LDm1QfYzCQu72E5Cio5vmr",
      "authorship_tag": "ABX9TyM07RFMHi+i3lfRjGOloVgM",
      "include_colab_link": true
    },
    "kernelspec": {
      "name": "python3",
      "display_name": "Python 3"
    }
  },
  "cells": [
    {
      "cell_type": "markdown",
      "metadata": {
        "id": "view-in-github",
        "colab_type": "text"
      },
      "source": [
        "<a href=\"https://colab.research.google.com/github/brianmatus/ipc2-tda/blob/main/Enlazada.ipynb\" target=\"_parent\"><img src=\"https://colab.research.google.com/assets/colab-badge.svg\" alt=\"Open In Colab\"/></a>"
      ]
    },
    {
      "cell_type": "code",
      "metadata": {
        "id": "2TkAGk95aDnw"
      },
      "source": [
        "class cliente:\r\n",
        "  def __init__(self, nombre, no_habitacion):\r\n",
        "    self.nombre = nombre\r\n",
        "    self.no_habitacion = no_habitacion\r\n",
        "    "
      ],
      "execution_count": 2,
      "outputs": []
    },
    {
      "cell_type": "code",
      "metadata": {
        "id": "jVD1lrMxaYrh"
      },
      "source": [
        "class node:\r\n",
        "  def __init__(self, cliente=None, next=None):\r\n",
        "    self.cliente = cliente\r\n",
        "    self.next = next\r\n"
      ],
      "execution_count": 3,
      "outputs": []
    },
    {
      "cell_type": "code",
      "metadata": {
        "id": "Bmrz3ofiasTB"
      },
      "source": [
        "class linked_list:\r\n",
        "  def __init__(self):\r\n",
        "    self.head = None\r\n",
        "\r\n",
        "  def insertar(self,cliente):\r\n",
        "    if not self.head:\r\n",
        "      self.head = node(cliente=cliente)\r\n",
        "      return\r\n",
        "    current = self.head\r\n",
        "    while(current.next):\r\n",
        "      current = current.next\r\n",
        "    current.next = node(cliente=cliente)\r\n",
        "\r\n",
        "  def imprimir(self):\r\n",
        "    node = self.head\r\n",
        "    while node:\r\n",
        "      print(node.cliente.nombre,end=\"-->\")\r\n",
        "      node = node.next\r\n",
        "    print(\"\")\r\n",
        "  def eliminar(self,no_habitacion):\r\n",
        "    current = self.head\r\n",
        "    while current and current.cliente.no_habitacion != no_habitacion:\r\n",
        "      previous = current\r\n",
        "      current = current.next\r\n",
        "    if previous is None:\r\n",
        "      self.head = current.next\r\n",
        "    elif current:\r\n",
        "      previous.next = current.next\r\n",
        "      current.next = None\r\n"
      ],
      "execution_count": 4,
      "outputs": []
    },
    {
      "cell_type": "code",
      "metadata": {
        "id": "ebukJie_PZLn"
      },
      "source": [
        ""
      ],
      "execution_count": null,
      "outputs": []
    },
    {
      "cell_type": "code",
      "metadata": {
        "id": "fr6Bdo1gciFu"
      },
      "source": [
        "c1 = cliente(\"Estuardo Zapeta\",101)\r\n",
        "c2 = cliente(\"Marco Lopez\",103)\r\n",
        "c3 = cliente(\"Josue Armas\",204)\r\n",
        "c4 = cliente(\"Gladys Olmos\",302)"
      ],
      "execution_count": 5,
      "outputs": []
    },
    {
      "cell_type": "code",
      "metadata": {
        "colab": {
          "base_uri": "https://localhost:8080/"
        },
        "id": "j9VOaV9zcy64",
        "outputId": "78760163-f8d6-468a-931c-216fc1fe7c72"
      },
      "source": [
        "lista = linked_list()\r\n",
        "lista.insertar(c1)\r\n",
        "lista.imprimir()\r\n",
        "lista.insertar(c2)\r\n",
        "lista.imprimir()"
      ],
      "execution_count": 6,
      "outputs": [
        {
          "output_type": "stream",
          "text": [
            "Estuardo Zapeta-->\n",
            "Estuardo Zapeta-->Marco Lopez-->\n"
          ],
          "name": "stdout"
        }
      ]
    },
    {
      "cell_type": "code",
      "metadata": {
        "id": "RI-kOqSVPaIu"
      },
      "source": [
        "class linked_list_circular:\r\n",
        "  def __init__(self,head=None):\r\n",
        "    self.head = head\r\n",
        "    self.size = 0\r\n",
        "  \r\n",
        "  def insertar(self,cliente):\r\n",
        "    if self.size ==0:\r\n",
        "      self.head = node(cliente=cliente)\r\n",
        "      self.head.next = self.head\r\n",
        "    else:\r\n",
        "      new_node = node(cliente=cliente,next=self.head.next)\r\n",
        "      self.head.next = new_node\r\n",
        "    self.size += 1\r\n",
        "\r\n",
        "  def imprimir(self):\r\n",
        "    if self.head is None:\r\n",
        "      return\r\n",
        "    node = self.head\r\n",
        "    print(node.cliente.nombre, end=\"=>\")\r\n",
        "    while(node.next != self.head):\r\n",
        "      node = node.next\r\n",
        "      print(node.cliente.nombre, end=\"=>\")\r\n",
        "  def eliminar(self,no_habitacion):\r\n",
        "\r\n",
        "    node = self.head\r\n",
        "    previous = None\r\n",
        "    while(True):\r\n",
        "      if (node.cliente.no_habitacion == no_habitacion):\r\n",
        "        if previous is not None:\r\n",
        "          previous.next = node.next\r\n",
        "          break\r\n",
        "        else:\r\n",
        "          while node.next != self.head\r\n",
        "            node = node.next\r\n",
        "          node.next = self.head.next\r\n",
        "          self.head = self.head.next\r\n",
        "          self.size -= 1\r\n",
        "          return True\r\n",
        "      previous = node\r\n",
        "      node = node.next\r\n",
        "      elif node.next == self.head:\r\n",
        "        return False\r\n",
        "\r\n",
        "\r\n",
        "\r\n",
        "\r\n",
        "\r\n",
        "\r\n"
      ],
      "execution_count": 26,
      "outputs": []
    },
    {
      "cell_type": "code",
      "metadata": {
        "colab": {
          "base_uri": "https://localhost:8080/"
        },
        "id": "nX3SfgkNRCd8",
        "outputId": "2a3047e9-9975-4ee1-dba6-bbcb78fcb454"
      },
      "source": [
        "lista_c = linked_list_circular()\r\n",
        "lista_c.insertar(c1)\r\n",
        "lista_c.insertar(c2)\r\n",
        "lista_c.insertar(c3)\r\n",
        "lista_c.insertar(c4)\r\n",
        "lista_c.imprimir()"
      ],
      "execution_count": 24,
      "outputs": [
        {
          "output_type": "stream",
          "text": [
            "Estuardo Zapeta=>Gladys Olmos=>Josue Armas=>Marco Lopez=>"
          ],
          "name": "stdout"
        }
      ]
    }
  ]
}